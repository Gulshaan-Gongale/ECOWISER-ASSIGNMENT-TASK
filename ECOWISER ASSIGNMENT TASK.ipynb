{
 "cells": [
  {
   "cell_type": "code",
   "execution_count": 157,
   "id": "784017f4",
   "metadata": {},
   "outputs": [],
   "source": [
    "import numpy as np,pandas as pd,requests,re\n",
    "from bs4 import BeautifulSoup"
   ]
  },
  {
   "cell_type": "code",
   "execution_count": 158,
   "id": "86f3be44",
   "metadata": {},
   "outputs": [],
   "source": [
    "from selenium import webdriver\n",
    "from selenium.webdriver.chrome.service import Service\n",
    "from selenium.webdriver.chrome.options import Options"
   ]
  },
  {
   "cell_type": "code",
   "execution_count": 159,
   "id": "2683499b",
   "metadata": {},
   "outputs": [],
   "source": [
    "path=r\"C:\\Users\\utkar\\Downloads\\chromedriver.exe\""
   ]
  },
  {
   "cell_type": "code",
   "execution_count": 160,
   "id": "170462fd",
   "metadata": {},
   "outputs": [],
   "source": [
    "servise=Service(executable_path=path)"
   ]
  },
  {
   "cell_type": "code",
   "execution_count": 161,
   "id": "ca445ffc",
   "metadata": {},
   "outputs": [],
   "source": [
    "driver=webdriver.Chrome(service=servise)"
   ]
  },
  {
   "cell_type": "code",
   "execution_count": 162,
   "id": "aab9097c",
   "metadata": {},
   "outputs": [],
   "source": [
    "page=requests.get(\"https://www.linkedin.com/search/results/people/?keywords=firstname%20lastname&origin=CLUSTER_EXPANSION&page=2&sid=vqQ\")"
   ]
  },
  {
   "cell_type": "code",
   "execution_count": 163,
   "id": "d07f3685",
   "metadata": {},
   "outputs": [
    {
     "data": {
      "text/plain": [
       "<Response [200]>"
      ]
     },
     "execution_count": 163,
     "metadata": {},
     "output_type": "execute_result"
    }
   ],
   "source": [
    "page"
   ]
  },
  {
   "cell_type": "code",
   "execution_count": 363,
   "id": "3676774b",
   "metadata": {
    "scrolled": false
   },
   "outputs": [],
   "source": [
    "first_name=[]\n",
    "role=[]\n",
    "location=[]\n",
    "for i in range(1,11):\n",
    "    url=f\"https://www.linkedin.com/search/results/people/?keywords=firstname%20lastname&origin=CLUSTER_EXPANSION&page={i}&sid=vqQ\"\n",
    "    driver.get(url)\n",
    "    soup=BeautifulSoup(driver.page_source,\"html.parser\")\n",
    "    for i in soup.find_all(\"div\",class_=\"PofMLJLYCNPCBOUhmySedBKgvnPKQNvZyexs entity-result__divider pt3 pb3 t-12 t-black--light\"):\n",
    "        a=i.find(\"div\",class_=\"entity-result__primary-subtitle t-14 t-black t-normal\")\n",
    "        if a:\n",
    "            role.append(a.text)\n",
    "        else:\n",
    "            role.append(np.nan)\n",
    "    for i in soup.find_all(\"div\",class_=\"PofMLJLYCNPCBOUhmySedBKgvnPKQNvZyexs entity-result__divider pt3 pb3 t-12 t-black--light\"):\n",
    "        b=i.find(\"div\",class_=\"entity-result__secondary-subtitle t-14 t-normal\")\n",
    "        if b:\n",
    "            location.append(b.text)\n",
    "        else:\n",
    "            location.append(np.nan)\n",
    "    for i in soup.find_all(\"div\",class_=\"PofMLJLYCNPCBOUhmySedBKgvnPKQNvZyexs entity-result__divider pt3 pb3 t-12 t-black--light\"):\n",
    "        c=i.find(\"div\",class_=\"t-roman t-sans\")\n",
    "        if c:\n",
    "            first_name.append(c.text)\n",
    "        else:\n",
    "            first_name.append(np.nan)"
   ]
  },
  {
   "cell_type": "code",
   "execution_count": 364,
   "id": "e9964fda",
   "metadata": {},
   "outputs": [
    {
     "data": {
      "text/plain": [
       "40"
      ]
     },
     "execution_count": 364,
     "metadata": {},
     "output_type": "execute_result"
    }
   ],
   "source": [
    "len(first_name)"
   ]
  },
  {
   "cell_type": "code",
   "execution_count": 365,
   "id": "09ef411a",
   "metadata": {},
   "outputs": [
    {
     "data": {
      "text/plain": [
       "40"
      ]
     },
     "execution_count": 365,
     "metadata": {},
     "output_type": "execute_result"
    }
   ],
   "source": [
    "len(role)"
   ]
  },
  {
   "cell_type": "code",
   "execution_count": 366,
   "id": "eb8b7b54",
   "metadata": {},
   "outputs": [
    {
     "data": {
      "text/plain": [
       "40"
      ]
     },
     "execution_count": 366,
     "metadata": {},
     "output_type": "execute_result"
    }
   ],
   "source": [
    "len(location)"
   ]
  },
  {
   "cell_type": "code",
   "execution_count": 367,
   "id": "f4ed90d7",
   "metadata": {},
   "outputs": [],
   "source": [
    "data={\"First Name\":first_name,\"Role\":role,\"Location\":location}"
   ]
  },
  {
   "cell_type": "code",
   "execution_count": 368,
   "id": "0d3c9a70",
   "metadata": {},
   "outputs": [],
   "source": [
    "linkedin=pd.DataFrame(data)"
   ]
  },
  {
   "cell_type": "code",
   "execution_count": 369,
   "id": "2c6692ba",
   "metadata": {},
   "outputs": [
    {
     "data": {
      "text/plain": [
       "0     \\n\\n\\n\\n\\nFirstName LastNameView FirstName Las...\n",
       "1     \\n\\n\\n\\n\\nFirstname LastNameView Firstname Las...\n",
       "2     \\n\\n\\n\\n\\nFirstname LastnameView Firstname Las...\n",
       "3     \\n\\n\\n\\n\\nFirstname L.View Firstname L.’s prof...\n",
       "4     \\n\\n\\n\\n\\nK, Gopinath ,View K, Gopinath ,’s pr...\n",
       "5                 \\n\\n\\n\\n\\nLinkedIn Member\\n\\n \\n\\n \\n\n",
       "6     \\n\\n\\n\\n\\nFirstName LastNameView FirstName Las...\n",
       "7     \\n\\n\\n\\n\\nFirstName LastNameView FirstName Las...\n",
       "8     \\n\\n\\n\\n\\nFirstName L.View FirstName L.’s prof...\n",
       "9     \\n\\n\\n\\n\\nFirstName LastnameView FirstName Las...\n",
       "10                \\n\\n\\n\\n\\nLinkedIn Member\\n\\n \\n\\n \\n\n",
       "11    \\n\\n\\n\\n\\nFirstname LastnameView Firstname Las...\n",
       "12    \\n\\n\\n\\n\\nFirstname L.View Firstname L.’s prof...\n",
       "13    \\n\\n\\n\\n\\nFirstName LastNameView FirstName Las...\n",
       "14    \\n\\n\\n\\n\\nFirstName LastNameView FirstName Las...\n",
       "15    \\n\\n\\n\\n\\nFirstname L.View Firstname L.’s prof...\n",
       "16    \\n\\n\\n\\n\\nfirstname lastnameView firstname las...\n",
       "17                \\n\\n\\n\\n\\nLinkedIn Member\\n\\n \\n\\n \\n\n",
       "18                \\n\\n\\n\\n\\nLinkedIn Member\\n\\n \\n\\n \\n\n",
       "19    \\n\\n\\n\\n\\nFirstName LastNameView FirstName Las...\n",
       "20    \\n\\n\\n\\n\\nfirstname lastnameView firstname las...\n",
       "21    \\n\\n\\n\\n\\nFirstname LastnameView Firstname Las...\n",
       "22    \\n\\n\\n\\n\\nfirstname lastnameView firstname las...\n",
       "23    \\n\\n\\n\\n\\nFirstName LastNameView FirstName Las...\n",
       "24    \\n\\n\\n\\n\\nFirstname LastnameView Firstname Las...\n",
       "25    \\n\\n\\n\\n\\nFirstname LastnameView Firstname Las...\n",
       "26    \\n\\n\\n\\n\\nFirstName L.View FirstName L.’s prof...\n",
       "27    \\n\\n\\n\\n\\nFirstName LastNameView FirstName Las...\n",
       "28    \\n\\n\\n\\n\\nSrao_firstname Srao_lastnameView Sra...\n",
       "29                \\n\\n\\n\\n\\nLinkedIn Member\\n\\n \\n\\n \\n\n",
       "30                \\n\\n\\n\\n\\nLinkedIn Member\\n\\n \\n\\n \\n\n",
       "31                \\n\\n\\n\\n\\nLinkedIn Member\\n\\n \\n\\n \\n\n",
       "32                \\n\\n\\n\\n\\nLinkedIn Member\\n\\n \\n\\n \\n\n",
       "33    \\n\\n\\n\\n\\nfirstName lastNameView firstName las...\n",
       "34    \\n\\n\\n\\n\\nFirstname LastnameView Firstname Las...\n",
       "35    \\n\\n\\n\\n\\nFirstname LastnameView Firstname Las...\n",
       "36    \\n\\n\\n\\n\\nFirstName LastNameView FirstName Las...\n",
       "37                \\n\\n\\n\\n\\nLinkedIn Member\\n\\n \\n\\n \\n\n",
       "38    \\n\\n\\n\\n\\nFirstName LastNameView FirstName Las...\n",
       "39    \\n\\n\\n\\n\\nFirstName L.View FirstName L.’s prof...\n",
       "Name: First Name, dtype: object"
      ]
     },
     "execution_count": 369,
     "metadata": {},
     "output_type": "execute_result"
    }
   ],
   "source": [
    "linkedin[\"First Name\"]"
   ]
  },
  {
   "cell_type": "code",
   "execution_count": 370,
   "id": "7f1187d9",
   "metadata": {},
   "outputs": [],
   "source": [
    "linkedin[\"First Name\"]=linkedin[\"First Name\"].replace(\"\\n\\n\\n\\n\\n\",\"\",regex=True)"
   ]
  },
  {
   "cell_type": "code",
   "execution_count": 371,
   "id": "8b1a4a98",
   "metadata": {},
   "outputs": [
    {
     "data": {
      "text/plain": [
       "'FirstName LastNameView FirstName LastName’s profile\\n\\n\\n\\n \\n• 3rd+3rd+ degree connection\\n\\n\\n \\n• 3rd+3rd+ degree connection'"
      ]
     },
     "execution_count": 371,
     "metadata": {},
     "output_type": "execute_result"
    }
   ],
   "source": [
    "linkedin[\"First Name\"][0]"
   ]
  },
  {
   "cell_type": "code",
   "execution_count": 372,
   "id": "35432281",
   "metadata": {},
   "outputs": [],
   "source": [
    "linkedin[\"First Name\"]=linkedin[\"First Name\"].apply(lambda x:re.sub(\"profile.+\",\"\",x))"
   ]
  },
  {
   "cell_type": "code",
   "execution_count": 373,
   "id": "ce8dc8a3",
   "metadata": {},
   "outputs": [],
   "source": [
    "linkedin[\"First Name\"]=linkedin[\"First Name\"].apply(lambda x:re.sub(\"[,\\.;:?/\\'\\\"]\",\"\",x))"
   ]
  },
  {
   "cell_type": "code",
   "execution_count": 374,
   "id": "365fdd79",
   "metadata": {},
   "outputs": [
    {
     "data": {
      "text/plain": [
       "0     FirstName LastNameView FirstName LastName’s pr...\n",
       "1     Firstname LastNameView Firstname LastName’s pr...\n",
       "2     Firstname LastnameView Firstname Lastname’s pr...\n",
       "3     Firstname LView Firstname L’s profile\\n\\n\\n\\n ...\n",
       "4     K Gopinath View K Gopinath ’s profile\\n\\n\\n\\n ...\n",
       "5                           LinkedIn Member\\n\\n \\n\\n \\n\n",
       "6     FirstName LastNameView FirstName LastName’s pr...\n",
       "7     FirstName LastNameView FirstName LastName’s pr...\n",
       "8     FirstName LView FirstName L’s profile\\n\\n\\n\\n ...\n",
       "9     FirstName LastnameView FirstName Lastname’s pr...\n",
       "10                          LinkedIn Member\\n\\n \\n\\n \\n\n",
       "11    Firstname LastnameView Firstname Lastname’s pr...\n",
       "12    Firstname LView Firstname L’s profile\\n\\n\\n\\n ...\n",
       "13    FirstName LastNameView FirstName LastName’s pr...\n",
       "14    FirstName LastNameView FirstName LastName’s pr...\n",
       "15    Firstname LView Firstname L’s profile\\n\\n\\n\\n ...\n",
       "16    firstname lastnameView firstname lastname’s pr...\n",
       "17                          LinkedIn Member\\n\\n \\n\\n \\n\n",
       "18                          LinkedIn Member\\n\\n \\n\\n \\n\n",
       "19    FirstName LastNameView FirstName LastName’s pr...\n",
       "20    firstname lastnameView firstname lastname’s pr...\n",
       "21    Firstname LastnameView Firstname Lastname’s pr...\n",
       "22    firstname lastnameView firstname lastname’s pr...\n",
       "23    FirstName LastNameView FirstName LastName’s pr...\n",
       "24    Firstname LastnameView Firstname Lastname’s pr...\n",
       "25    Firstname LastnameView Firstname Lastname’s pr...\n",
       "26    FirstName LView FirstName L’s profile\\n\\n\\n\\n ...\n",
       "27    FirstName LastNameView FirstName LastName’s pr...\n",
       "28    Srao_firstname Srao_lastnameView Srao_firstnam...\n",
       "29                          LinkedIn Member\\n\\n \\n\\n \\n\n",
       "30                          LinkedIn Member\\n\\n \\n\\n \\n\n",
       "31                          LinkedIn Member\\n\\n \\n\\n \\n\n",
       "32                          LinkedIn Member\\n\\n \\n\\n \\n\n",
       "33    firstName lastNameView firstName lastName’s pr...\n",
       "34    Firstname LastnameView Firstname Lastname’s pr...\n",
       "35    Firstname LastnameView Firstname Lastname’s pr...\n",
       "36    FirstName LastNameView FirstName LastName’s pr...\n",
       "37                          LinkedIn Member\\n\\n \\n\\n \\n\n",
       "38    FirstName LastNameView FirstName LastName’s pr...\n",
       "39    FirstName LView FirstName L’s profile\\n\\n\\n\\n ...\n",
       "Name: First Name, dtype: object"
      ]
     },
     "execution_count": 374,
     "metadata": {},
     "output_type": "execute_result"
    }
   ],
   "source": [
    "linkedin[\"First Name\"]"
   ]
  },
  {
   "cell_type": "code",
   "execution_count": 375,
   "id": "75befad0",
   "metadata": {},
   "outputs": [],
   "source": [
    "linkedin[\"First Name\"]=linkedin[\"First Name\"].apply(lambda x:re.sub(\"View.+\",\"\",x))"
   ]
  },
  {
   "cell_type": "code",
   "execution_count": 376,
   "id": "bddf4f24",
   "metadata": {},
   "outputs": [],
   "source": [
    "linkedin[\"First Name\"]=linkedin[\"First Name\"].apply(lambda x:re.sub(\"(Last|\\n).+\",\"\",x))"
   ]
  },
  {
   "cell_type": "code",
   "execution_count": 377,
   "id": "0ee244dd",
   "metadata": {},
   "outputs": [],
   "source": [
    "linkedin[\"First Name\"]=linkedin[\"First Name\"].apply(lambda x:re.sub(\"\\n+\",\"\",x))"
   ]
  },
  {
   "cell_type": "code",
   "execution_count": 378,
   "id": "43e963d8",
   "metadata": {},
   "outputs": [],
   "source": [
    "linkedin[\"First Name\"]=linkedin[\"First Name\"].apply(lambda x:re.sub(\"\\sL\",\"\",x))"
   ]
  },
  {
   "cell_type": "code",
   "execution_count": 379,
   "id": "9bbea9d6",
   "metadata": {},
   "outputs": [
    {
     "data": {
      "text/plain": [
       "0                       FirstName \n",
       "1                       Firstname \n",
       "2                       Firstname \n",
       "3                        Firstname\n",
       "4                      K Gopinath \n",
       "5                  LinkedIn Member\n",
       "6                       FirstName \n",
       "7                       FirstName \n",
       "8                        FirstName\n",
       "9                       FirstName \n",
       "10                 LinkedIn Member\n",
       "11                      Firstname \n",
       "12                       Firstname\n",
       "13                      FirstName \n",
       "14                      FirstName \n",
       "15                       Firstname\n",
       "16              firstname lastname\n",
       "17                 LinkedIn Member\n",
       "18                 LinkedIn Member\n",
       "19                      FirstName \n",
       "20              firstname lastname\n",
       "21                      Firstname \n",
       "22              firstname lastname\n",
       "23                      FirstName \n",
       "24                      Firstname \n",
       "25                      Firstname \n",
       "26                       FirstName\n",
       "27                      FirstName \n",
       "28    Srao_firstname Srao_lastname\n",
       "29                 LinkedIn Member\n",
       "30                 LinkedIn Member\n",
       "31                 LinkedIn Member\n",
       "32                 LinkedIn Member\n",
       "33              firstName lastName\n",
       "34                      Firstname \n",
       "35                      Firstname \n",
       "36                      FirstName \n",
       "37                 LinkedIn Member\n",
       "38                      FirstName \n",
       "39                       FirstName\n",
       "Name: First Name, dtype: object"
      ]
     },
     "execution_count": 379,
     "metadata": {},
     "output_type": "execute_result"
    }
   ],
   "source": [
    "linkedin[\"First Name\"]"
   ]
  },
  {
   "cell_type": "code",
   "execution_count": 380,
   "id": "a04713cc",
   "metadata": {},
   "outputs": [],
   "source": [
    "linkedin[\"Role\"]=linkedin[\"Role\"].replace(\"\\n\",\"\",regex=True)"
   ]
  },
  {
   "cell_type": "code",
   "execution_count": 381,
   "id": "4f4f91c4",
   "metadata": {},
   "outputs": [],
   "source": [
    "linkedin[\"Role\"]=linkedin[\"Role\"].replace(\"--\",\"NA\",regex=True)"
   ]
  },
  {
   "cell_type": "code",
   "execution_count": 382,
   "id": "407eb3b2",
   "metadata": {},
   "outputs": [],
   "source": [
    "linkedin[\"Location\"]=linkedin[\"Location\"].replace(\"\\n\",\"\",regex=True)"
   ]
  },
  {
   "cell_type": "code",
   "execution_count": 383,
   "id": "776eaa1e",
   "metadata": {},
   "outputs": [
    {
     "data": {
      "text/html": [
       "<div>\n",
       "<style scoped>\n",
       "    .dataframe tbody tr th:only-of-type {\n",
       "        vertical-align: middle;\n",
       "    }\n",
       "\n",
       "    .dataframe tbody tr th {\n",
       "        vertical-align: top;\n",
       "    }\n",
       "\n",
       "    .dataframe thead th {\n",
       "        text-align: right;\n",
       "    }\n",
       "</style>\n",
       "<table border=\"1\" class=\"dataframe\">\n",
       "  <thead>\n",
       "    <tr style=\"text-align: right;\">\n",
       "      <th></th>\n",
       "      <th>First Name</th>\n",
       "      <th>Role</th>\n",
       "      <th>Location</th>\n",
       "    </tr>\n",
       "  </thead>\n",
       "  <tbody>\n",
       "    <tr>\n",
       "      <th>0</th>\n",
       "      <td>FirstName</td>\n",
       "      <td>Headline</td>\n",
       "      <td>Jharkhand, India</td>\n",
       "    </tr>\n",
       "    <tr>\n",
       "      <th>1</th>\n",
       "      <td>Firstname</td>\n",
       "      <td>NA</td>\n",
       "      <td>Hyderabad</td>\n",
       "    </tr>\n",
       "    <tr>\n",
       "      <th>2</th>\n",
       "      <td>Firstname</td>\n",
       "      <td>NA</td>\n",
       "      <td>India</td>\n",
       "    </tr>\n",
       "    <tr>\n",
       "      <th>3</th>\n",
       "      <td>Firstname</td>\n",
       "      <td>Headline</td>\n",
       "      <td>San Francisco Bay Area</td>\n",
       "    </tr>\n",
       "    <tr>\n",
       "      <th>4</th>\n",
       "      <td>K Gopinath</td>\n",
       "      <td>IT Project Management - Delivery Management</td>\n",
       "      <td>Greater Chennai Area</td>\n",
       "    </tr>\n",
       "    <tr>\n",
       "      <th>5</th>\n",
       "      <td>LinkedIn Member</td>\n",
       "      <td>Student at Delhi Technological University (For...</td>\n",
       "      <td>Delhi, India</td>\n",
       "    </tr>\n",
       "    <tr>\n",
       "      <th>6</th>\n",
       "      <td>FirstName</td>\n",
       "      <td>Freelance at PeoplePerHour</td>\n",
       "      <td>Rajasthan, India</td>\n",
       "    </tr>\n",
       "    <tr>\n",
       "      <th>7</th>\n",
       "      <td>FirstName</td>\n",
       "      <td>Student at Delhi University</td>\n",
       "      <td>Pune</td>\n",
       "    </tr>\n",
       "    <tr>\n",
       "      <th>8</th>\n",
       "      <td>FirstName</td>\n",
       "      <td>NA</td>\n",
       "      <td>Pune</td>\n",
       "    </tr>\n",
       "    <tr>\n",
       "      <th>9</th>\n",
       "      <td>FirstName</td>\n",
       "      <td>Role</td>\n",
       "      <td>India</td>\n",
       "    </tr>\n",
       "    <tr>\n",
       "      <th>10</th>\n",
       "      <td>LinkedIn Member</td>\n",
       "      <td>NA</td>\n",
       "      <td>Chhattisgarh, India</td>\n",
       "    </tr>\n",
       "    <tr>\n",
       "      <th>11</th>\n",
       "      <td>Firstname</td>\n",
       "      <td>Student</td>\n",
       "      <td>Baltimore, MD</td>\n",
       "    </tr>\n",
       "    <tr>\n",
       "      <th>12</th>\n",
       "      <td>Firstname</td>\n",
       "      <td>Senior Software Engineering at Startup</td>\n",
       "      <td>York</td>\n",
       "    </tr>\n",
       "    <tr>\n",
       "      <th>13</th>\n",
       "      <td>FirstName</td>\n",
       "      <td>Associate at ACCO Brands</td>\n",
       "      <td>Rajarhat</td>\n",
       "    </tr>\n",
       "    <tr>\n",
       "      <th>14</th>\n",
       "      <td>FirstName</td>\n",
       "      <td>software developer</td>\n",
       "      <td>Tashkent</td>\n",
       "    </tr>\n",
       "    <tr>\n",
       "      <th>15</th>\n",
       "      <td>Firstname</td>\n",
       "      <td>Seeking HVAC Service Technician career in the ...</td>\n",
       "      <td>United States</td>\n",
       "    </tr>\n",
       "    <tr>\n",
       "      <th>16</th>\n",
       "      <td>firstname lastname</td>\n",
       "      <td>NA</td>\n",
       "      <td>India</td>\n",
       "    </tr>\n",
       "    <tr>\n",
       "      <th>17</th>\n",
       "      <td>LinkedIn Member</td>\n",
       "      <td>Predictive Analytics</td>\n",
       "      <td>Gurgaon</td>\n",
       "    </tr>\n",
       "    <tr>\n",
       "      <th>18</th>\n",
       "      <td>LinkedIn Member</td>\n",
       "      <td>Test at Test</td>\n",
       "      <td>Maharashtra, India</td>\n",
       "    </tr>\n",
       "    <tr>\n",
       "      <th>19</th>\n",
       "      <td>FirstName</td>\n",
       "      <td>Senior Software Engineer at LinkedIn</td>\n",
       "      <td>San Francisco Bay Area</td>\n",
       "    </tr>\n",
       "    <tr>\n",
       "      <th>20</th>\n",
       "      <td>firstname lastname</td>\n",
       "      <td>NA</td>\n",
       "      <td>Kurnool</td>\n",
       "    </tr>\n",
       "    <tr>\n",
       "      <th>21</th>\n",
       "      <td>Firstname</td>\n",
       "      <td>Assistant at Metro</td>\n",
       "      <td>Bengaluru</td>\n",
       "    </tr>\n",
       "    <tr>\n",
       "      <th>22</th>\n",
       "      <td>firstname lastname</td>\n",
       "      <td>Software Engineer at LinkedIn</td>\n",
       "      <td>Sunnyvale, CA</td>\n",
       "    </tr>\n",
       "    <tr>\n",
       "      <th>23</th>\n",
       "      <td>FirstName</td>\n",
       "      <td>Software Engineer at LinkedIn</td>\n",
       "      <td>San Francisco Bay Area</td>\n",
       "    </tr>\n",
       "    <tr>\n",
       "      <th>24</th>\n",
       "      <td>Firstname</td>\n",
       "      <td>Hello</td>\n",
       "      <td>Los Gatos, CA</td>\n",
       "    </tr>\n",
       "    <tr>\n",
       "      <th>25</th>\n",
       "      <td>Firstname</td>\n",
       "      <td>Account For Testing Only</td>\n",
       "      <td>Greater Toronto Area, Canada</td>\n",
       "    </tr>\n",
       "    <tr>\n",
       "      <th>26</th>\n",
       "      <td>FirstName</td>\n",
       "      <td>Occupation</td>\n",
       "      <td>France</td>\n",
       "    </tr>\n",
       "    <tr>\n",
       "      <th>27</th>\n",
       "      <td>FirstName</td>\n",
       "      <td>Headline.</td>\n",
       "      <td>Dehradun</td>\n",
       "    </tr>\n",
       "    <tr>\n",
       "      <th>28</th>\n",
       "      <td>Srao_firstname Srao_lastname</td>\n",
       "      <td>QA at Actiance, Inc.</td>\n",
       "      <td>Bengaluru</td>\n",
       "    </tr>\n",
       "    <tr>\n",
       "      <th>29</th>\n",
       "      <td>LinkedIn Member</td>\n",
       "      <td>NA</td>\n",
       "      <td>India</td>\n",
       "    </tr>\n",
       "    <tr>\n",
       "      <th>30</th>\n",
       "      <td>LinkedIn Member</td>\n",
       "      <td>Student at Indian Institute of Technology, Bombay</td>\n",
       "      <td>Pune</td>\n",
       "    </tr>\n",
       "    <tr>\n",
       "      <th>31</th>\n",
       "      <td>LinkedIn Member</td>\n",
       "      <td>NA</td>\n",
       "      <td>Vijayawada</td>\n",
       "    </tr>\n",
       "    <tr>\n",
       "      <th>32</th>\n",
       "      <td>LinkedIn Member</td>\n",
       "      <td>Most Recent Jo Title</td>\n",
       "      <td>Jammu &amp; Kashmir, India</td>\n",
       "    </tr>\n",
       "    <tr>\n",
       "      <th>33</th>\n",
       "      <td>firstName lastName</td>\n",
       "      <td>Test Engineer at LinkedIn</td>\n",
       "      <td>San Francisco Bay Area</td>\n",
       "    </tr>\n",
       "    <tr>\n",
       "      <th>34</th>\n",
       "      <td>Firstname</td>\n",
       "      <td>Human Resources Specialist at US Army</td>\n",
       "      <td>Portland, OR</td>\n",
       "    </tr>\n",
       "    <tr>\n",
       "      <th>35</th>\n",
       "      <td>Firstname</td>\n",
       "      <td>Executive at Something</td>\n",
       "      <td>Dhaka, Bangladesh</td>\n",
       "    </tr>\n",
       "    <tr>\n",
       "      <th>36</th>\n",
       "      <td>FirstName</td>\n",
       "      <td>Software Engineer at Testing</td>\n",
       "      <td>Bengaluru</td>\n",
       "    </tr>\n",
       "    <tr>\n",
       "      <th>37</th>\n",
       "      <td>LinkedIn Member</td>\n",
       "      <td>Senior Business Analyst at Confidential</td>\n",
       "      <td>Sri Potti Sri Ramulu Nellore</td>\n",
       "    </tr>\n",
       "    <tr>\n",
       "      <th>38</th>\n",
       "      <td>FirstName</td>\n",
       "      <td>NA</td>\n",
       "      <td>Washim</td>\n",
       "    </tr>\n",
       "    <tr>\n",
       "      <th>39</th>\n",
       "      <td>FirstName</td>\n",
       "      <td>NA</td>\n",
       "      <td>United States</td>\n",
       "    </tr>\n",
       "  </tbody>\n",
       "</table>\n",
       "</div>"
      ],
      "text/plain": [
       "                      First Name  \\\n",
       "0                     FirstName    \n",
       "1                     Firstname    \n",
       "2                     Firstname    \n",
       "3                      Firstname   \n",
       "4                    K Gopinath    \n",
       "5                LinkedIn Member   \n",
       "6                     FirstName    \n",
       "7                     FirstName    \n",
       "8                      FirstName   \n",
       "9                     FirstName    \n",
       "10               LinkedIn Member   \n",
       "11                    Firstname    \n",
       "12                     Firstname   \n",
       "13                    FirstName    \n",
       "14                    FirstName    \n",
       "15                     Firstname   \n",
       "16            firstname lastname   \n",
       "17               LinkedIn Member   \n",
       "18               LinkedIn Member   \n",
       "19                    FirstName    \n",
       "20            firstname lastname   \n",
       "21                    Firstname    \n",
       "22            firstname lastname   \n",
       "23                    FirstName    \n",
       "24                    Firstname    \n",
       "25                    Firstname    \n",
       "26                     FirstName   \n",
       "27                    FirstName    \n",
       "28  Srao_firstname Srao_lastname   \n",
       "29               LinkedIn Member   \n",
       "30               LinkedIn Member   \n",
       "31               LinkedIn Member   \n",
       "32               LinkedIn Member   \n",
       "33            firstName lastName   \n",
       "34                    Firstname    \n",
       "35                    Firstname    \n",
       "36                    FirstName    \n",
       "37               LinkedIn Member   \n",
       "38                    FirstName    \n",
       "39                     FirstName   \n",
       "\n",
       "                                                 Role  \\\n",
       "0                                            Headline   \n",
       "1                                                  NA   \n",
       "2                                                  NA   \n",
       "3                                            Headline   \n",
       "4         IT Project Management - Delivery Management   \n",
       "5   Student at Delhi Technological University (For...   \n",
       "6                          Freelance at PeoplePerHour   \n",
       "7                         Student at Delhi University   \n",
       "8                                                  NA   \n",
       "9                                                Role   \n",
       "10                                                 NA   \n",
       "11                                            Student   \n",
       "12             Senior Software Engineering at Startup   \n",
       "13                           Associate at ACCO Brands   \n",
       "14                                 software developer   \n",
       "15  Seeking HVAC Service Technician career in the ...   \n",
       "16                                                 NA   \n",
       "17                               Predictive Analytics   \n",
       "18                                       Test at Test   \n",
       "19               Senior Software Engineer at LinkedIn   \n",
       "20                                                 NA   \n",
       "21                                 Assistant at Metro   \n",
       "22                      Software Engineer at LinkedIn   \n",
       "23                      Software Engineer at LinkedIn   \n",
       "24                                              Hello   \n",
       "25                           Account For Testing Only   \n",
       "26                                         Occupation   \n",
       "27                                          Headline.   \n",
       "28                               QA at Actiance, Inc.   \n",
       "29                                                 NA   \n",
       "30  Student at Indian Institute of Technology, Bombay   \n",
       "31                                                 NA   \n",
       "32                               Most Recent Jo Title   \n",
       "33                          Test Engineer at LinkedIn   \n",
       "34              Human Resources Specialist at US Army   \n",
       "35                             Executive at Something   \n",
       "36                       Software Engineer at Testing   \n",
       "37            Senior Business Analyst at Confidential   \n",
       "38                                                 NA   \n",
       "39                                                 NA   \n",
       "\n",
       "                        Location  \n",
       "0               Jharkhand, India  \n",
       "1                      Hyderabad  \n",
       "2                          India  \n",
       "3         San Francisco Bay Area  \n",
       "4           Greater Chennai Area  \n",
       "5                   Delhi, India  \n",
       "6               Rajasthan, India  \n",
       "7                           Pune  \n",
       "8                           Pune  \n",
       "9                          India  \n",
       "10           Chhattisgarh, India  \n",
       "11                 Baltimore, MD  \n",
       "12                          York  \n",
       "13                      Rajarhat  \n",
       "14                      Tashkent  \n",
       "15                 United States  \n",
       "16                         India  \n",
       "17                       Gurgaon  \n",
       "18            Maharashtra, India  \n",
       "19        San Francisco Bay Area  \n",
       "20                       Kurnool  \n",
       "21                     Bengaluru  \n",
       "22                 Sunnyvale, CA  \n",
       "23        San Francisco Bay Area  \n",
       "24                 Los Gatos, CA  \n",
       "25  Greater Toronto Area, Canada  \n",
       "26                        France  \n",
       "27                      Dehradun  \n",
       "28                     Bengaluru  \n",
       "29                         India  \n",
       "30                          Pune  \n",
       "31                    Vijayawada  \n",
       "32        Jammu & Kashmir, India  \n",
       "33        San Francisco Bay Area  \n",
       "34                  Portland, OR  \n",
       "35             Dhaka, Bangladesh  \n",
       "36                     Bengaluru  \n",
       "37  Sri Potti Sri Ramulu Nellore  \n",
       "38                        Washim  \n",
       "39                 United States  "
      ]
     },
     "execution_count": 383,
     "metadata": {},
     "output_type": "execute_result"
    }
   ],
   "source": [
    "linkedin"
   ]
  },
  {
   "cell_type": "code",
   "execution_count": null,
   "id": "cdab0350",
   "metadata": {},
   "outputs": [],
   "source": []
  }
 ],
 "metadata": {
  "kernelspec": {
   "display_name": "Python 3 (ipykernel)",
   "language": "python",
   "name": "python3"
  },
  "language_info": {
   "codemirror_mode": {
    "name": "ipython",
    "version": 3
   },
   "file_extension": ".py",
   "mimetype": "text/x-python",
   "name": "python",
   "nbconvert_exporter": "python",
   "pygments_lexer": "ipython3",
   "version": "3.9.13"
  }
 },
 "nbformat": 4,
 "nbformat_minor": 5
}
